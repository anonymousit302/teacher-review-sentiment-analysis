{
 "cells": [
  {
   "cell_type": "code",
   "execution_count": 20,
   "metadata": {},
   "outputs": [
    {
     "name": "stdout",
     "output_type": "stream",
     "text": [
      "45881 2 41\n",
      "45881 3 21\n",
      "45881 4 1\n",
      "45881 5 0\n",
      "601915 2 96\n",
      "601915 3 76\n",
      "601915 4 56\n",
      "601915 5 36\n",
      "601915 6 16\n",
      "601915 7 0\n",
      "71357 2 35\n",
      "71357 3 15\n",
      "71357 4 0\n"
     ]
    }
   ],
   "source": [
    "import requests\n",
    "\n",
    "with open('rmp.csv', 'w') as f:\n",
    "    f.write('tid,comment\\n')\n",
    "    tids = [45881, 601915, 71357]\n",
    "    for tid in tids:\n",
    "        remaining, page = 1, 1\n",
    "        while remaining > 0:\n",
    "            url = 'http://www.ratemyprofessors.com/paginate/professors/ratings?tid={0}&page={1}'.format(tid, page)\n",
    "            lm_json = requests.get(url).json()\n",
    "            comments = []\n",
    "            for rating in lm_json['ratings']:\n",
    "                comments.append(rating['rComments'])\n",
    "            for comment in comments:\n",
    "                f.write('{0},\"{1}\"\\n'.format(tid, comment.replace('\"', '\\'')))\n",
    "            remaining = lm_json['remaining']\n",
    "            page += 1\n",
    "            print(tid, page, remaining)"
   ]
  },
  {
   "cell_type": "code",
   "execution_count": 21,
   "metadata": {},
   "outputs": [],
   "source": [
    "from astropy.io import ascii\n",
    "x = ascii.read('rmp.csv', format='csv')"
   ]
  },
  {
   "cell_type": "code",
   "execution_count": 29,
   "metadata": {},
   "outputs": [
    {
     "data": {
      "text/html": [
       "&lt;Row index=True&gt;\n",
       "<table id=\"table2638230465504\">\n",
       "<thead><tr><th>tid</th><th>comment</th></tr></thead>\n",
       "<thead><tr><th>int32</th><th>str358</th></tr></thead>\n",
       "<tr><td>45881</td><td>He is brilliant in his field, but expects his students to perform at high levels, with unrealistic expectations. Only by a miracle did I get an A, and that was after a heavy curve. He does care about his students though, as he gives lots of time in class for work, while he goes around giving tips and answering questions.</td></tr>\n",
       "</table>"
      ],
      "text/plain": [
       "<Row index=True>\n",
       " tid                                                                                                                                                               comment                                                                                                                                                              \n",
       "int32                                                                                                                                                               str358                                                                                                                                                              \n",
       "----- ----------------------------------------------------------------------------------------------------------------------------------------------------------------------------------------------------------------------------------------------------------------------------------------------------------------------------------\n",
       "45881 He is brilliant in his field, but expects his students to perform at high levels, with unrealistic expectations. Only by a miracle did I get an A, and that was after a heavy curve. He does care about his students though, as he gives lots of time in class for work, while he goes around giving tips and answering questions."
      ]
     },
     "execution_count": 29,
     "metadata": {},
     "output_type": "execute_result"
    }
   ],
   "source": [
    "tid =45881\n",
    "x[tid == 45881]"
   ]
  },
  {
   "cell_type": "code",
   "execution_count": 30,
   "metadata": {},
   "outputs": [
    {
     "data": {
      "text/html": [
       "&lt;Table length=232&gt;\n",
       "<table id=\"table2638230465504\" class=\"table-striped table-bordered table-condensed\">\n",
       "<thead><tr><th>tid</th><th>comment</th></tr></thead>\n",
       "<thead><tr><th>int32</th><th>str358</th></tr></thead>\n",
       "<tr><td>45881</td><td>Rand was a good guy, really... he was. But I felt he had an alter-ego when he left to go home and grade. His expectations and how he picked apart his students papers was simply not fair. Again, great guy but avoid this class with him!!!</td></tr>\n",
       "<tr><td>45881</td><td>He is brilliant in his field, but expects his students to perform at high levels, with unrealistic expectations. Only by a miracle did I get an A, and that was after a heavy curve. He does care about his students though, as he gives lots of time in class for work, while he goes around giving tips and answering questions.</td></tr>\n",
       "<tr><td>45881</td><td>He has a major in philosophy which is why all the papers you have to write are based on philosophy. As long as your paper agrees with what he thinks you will get a good grade. Otherwise the class is boring and he talks for an hour about nonsense but it is mandatory to attend otherwise your grade will drop.</td></tr>\n",
       "<tr><td>45881</td><td>I thought his class was extremely hard but despite it all, I became a confident writer. People on here say &apos;you can only get a c on a paper&apos; WRONG. I got an A and a B. You just have to be in it to win it. If you want to get an A, get a different teacher. If you want learn, Go for Rand. He made Eng. 110 worth something.</td></tr>\n",
       "<tr><td>45881</td><td>I recently just finished taking Comp 110 with Rand and it was the hardest class of my freshman semester. He takes it way too serious for a 100 level class. 80% of the class is papers so you would think you control the grade you get, right? Wrong.  He will tear apart your paper and give you a bad grade despite your efforts. I worked hard for a C.</td></tr>\n",
       "<tr><td>45881</td><td>Steven Rand is a nice person and really interesting to hear him speak. I am always inspired after a lecture. However, never expect to get anything higher than a C. You can think your paper is perfect but, he will tear it apart in seconds. Take a different professor if you don&apos;t want to put 9 hours of work into a paper you get an &apos;average&apos; grade on.</td></tr>\n",
       "<tr><td>45881</td><td>Hard class</td></tr>\n",
       "<tr><td>45881</td><td>He graded a 100 level class like we were all English majors in a 300 or above level class. Never got higher than a C on a paper. I went to the writing center for every paper. Very unclear in instructions and hard to approach with questions. Don&apos;t take the class from him.</td></tr>\n",
       "<tr><td>45881</td><td>Tough grader on papers make sure you do your work and drafts. Participation grades save you in the long run. Dont miss class and do your work. Go to the tutor center helps alot</td></tr>\n",
       "<tr><td>45881</td><td>Do not take English 110 with Rand. I don&apos;t feel any better at writing due to his confusing grading style.</td></tr>\n",
       "<tr><td>...</td><td>...</td></tr>\n",
       "<tr><td>71357</td><td>No Comments</td></tr>\n",
       "<tr><td>71357</td><td>No Comments</td></tr>\n",
       "<tr><td>71357</td><td>Loved his stories and films.  Fun class.  Learned lots.</td></tr>\n",
       "<tr><td>71357</td><td>Great teacher all around!</td></tr>\n",
       "<tr><td>71357</td><td>Very lousy teacher.  His stories rambled and were annoying.  He could have crammed what took him and hour to say into 30 seconds.  I stopped going after the first 3 weeks, and still pulled an A.  I guess he wasn&apos;t really needed.  They should get rid of him.</td></tr>\n",
       "<tr><td>71357</td><td>Awesome teacher. He&apos;s one of the few teachers whose lectures I can actually pay attention to. I&apos;ll go into the class dog tired but come out completely energized. Very funny, knowledgeable guy.</td></tr>\n",
       "<tr><td>71357</td><td>very good teacher loved the stories, i think he is one of the best on campus</td></tr>\n",
       "<tr><td>71357</td><td>Made the class very interesting. Loved his stories!</td></tr>\n",
       "<tr><td>71357</td><td>one of the best lecturers I have ever seen.</td></tr>\n",
       "<tr><td>71357</td><td>Shares applicable stories in class to relate to material. . .entertaining!!</td></tr>\n",
       "</table>"
      ],
      "text/plain": [
       "<Table length=232>\n",
       " tid  ...\n",
       "int32 ...\n",
       "----- ...\n",
       "45881 ...\n",
       "45881 ...\n",
       "45881 ...\n",
       "45881 ...\n",
       "45881 ...\n",
       "45881 ...\n",
       "45881 ...\n",
       "45881 ...\n",
       "45881 ...\n",
       "45881 ...\n",
       "  ... ...\n",
       "71357 ...\n",
       "71357 ...\n",
       "71357 ...\n",
       "71357 ...\n",
       "71357 ...\n",
       "71357 ...\n",
       "71357 ...\n",
       "71357 ...\n",
       "71357 ...\n",
       "71357 ..."
      ]
     },
     "execution_count": 30,
     "metadata": {},
     "output_type": "execute_result"
    }
   ],
   "source": [
    "x"
   ]
  },
  {
   "cell_type": "code",
   "execution_count": null,
   "metadata": {
    "collapsed": true
   },
   "outputs": [],
   "source": []
  }
 ],
 "metadata": {
  "kernelspec": {
   "display_name": "Python [conda root]",
   "language": "python",
   "name": "conda-root-py"
  },
  "language_info": {
   "codemirror_mode": {
    "name": "ipython",
    "version": 3
   },
   "file_extension": ".py",
   "mimetype": "text/x-python",
   "name": "python",
   "nbconvert_exporter": "python",
   "pygments_lexer": "ipython3",
   "version": "3.5.4"
  }
 },
 "nbformat": 4,
 "nbformat_minor": 2
}
