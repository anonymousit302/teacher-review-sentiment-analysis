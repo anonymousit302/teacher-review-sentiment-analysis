{
 "cells": [
  {
   "cell_type": "code",
   "execution_count": 5,
   "metadata": {
    "collapsed": true
   },
   "outputs": [],
   "source": [
    "# Neccesary Imports\n",
    "from __future__ import print_function, division\n",
    "import nltk\n",
    "import os\n",
    "import random\n",
    "from collections import Counter\n",
    "from nltk import word_tokenize, WordNetLemmatizer\n",
    "from nltk.corpus import stopwords\n",
    "from nltk import NaiveBayesClassifier, classify\n",
    "import pandas as pd"
   ]
  },
  {
   "cell_type": "code",
   "execution_count": 24,
   "metadata": {},
   "outputs": [],
   "source": [
    "# Initializations and functions\n",
    "stoplist = stopwords.words('english')\n",
    "\n",
    "\n",
    "def preprocess(sentence):\n",
    "    lemmatizer = WordNetLemmatizer()\n",
    "    return [lemmatizer.lemmatize(word.lower()) for word in word_tokenize(str(sentence))]\n",
    "\n",
    "def get_features(text, setting):\n",
    "    if setting=='bow':\n",
    "        return {word: count for word, count in Counter(preprocess(text)).items() if not word in stoplist}\n",
    "    else:\n",
    "        return {word: True for word in preprocess(text) if not word in stoplist}\n",
    "\n",
    "def train(features, samples_proportion):\n",
    "    train_size = int(len(features) * samples_proportion)\n",
    "    # initialise the training and test sets\n",
    "    train_set, test_set = features[:train_size], features[train_size:]\n",
    "    print ('Training set size = ' + str(len(train_set)) + ' emails')\n",
    "    print ('Test set size = ' + str(len(test_set)) + ' emails')\n",
    "    # train the classifier\n",
    "    classifier = NaiveBayesClassifier.train(train_set)\n",
    "    return train_set, test_set, classifier\n",
    "\n",
    "def evaluate(train_set, test_set, classifier):\n",
    "    # check how the classifier performs on the training and test sets\n",
    "    print ('Accuracy on the training set = ' + str(classify.accuracy(classifier, train_set)))\n",
    "    print ('Accuracy of the test set = ' + str(classify.accuracy(classifier, test_set)))\n",
    "    # check which words are most informative for the classifier\n",
    "    classifier.show_most_informative_features(20)"
   ]
  },
  {
   "cell_type": "code",
   "execution_count": 25,
   "metadata": {},
   "outputs": [],
   "source": [
    "# Reading in the corpus\n",
    "df = pd.read_csv('data/Evaluations-Binary.csv')\n",
    "data = []\n",
    "# arrange data in a tuple of the format (review,label)\n",
    "for index,rows in df.iterrows():\n",
    "    a = (rows['Review'],rows['Useful'])\n",
    "    data.append(a)\n",
    "# data\n",
    "# for (each,label) in data:\n",
    "#     print(each,label)"
   ]
  },
  {
   "cell_type": "code",
   "execution_count": 26,
   "metadata": {},
   "outputs": [
    {
     "name": "stdout",
     "output_type": "stream",
     "text": [
      "Collected 155 feature sets\n",
      "Training set size = 108 emails\n",
      "Test set size = 47 emails\n",
      "Accuracy on the training set = 0.9814814814814815\n",
      "Accuracy of the test set = 0.8297872340425532\n",
      "Most Informative Features\n",
      "                       : = True                0 : 1      =      5.0 : 1.0\n",
      "                    book = True                0 : 1      =      3.9 : 1.0\n",
      "                  boring = True                0 : 1      =      3.9 : 1.0\n",
      "                     get = True                1 : 0      =      3.6 : 1.0\n",
      "                  always = True                1 : 0      =      3.6 : 1.0\n",
      "                   seems = True                0 : 1      =      3.6 : 1.0\n",
      "                    look = True                0 : 1      =      3.6 : 1.0\n",
      "                  around = True                0 : 1      =      3.6 : 1.0\n",
      "                     see = True                0 : 1      =      3.6 : 1.0\n",
      "                    said = True                0 : 1      =      3.6 : 1.0\n",
      "                 awesome = True                0 : 1      =      3.6 : 1.0\n",
      "                    exam = True                1 : 0      =      3.3 : 1.0\n",
      "                question = True                1 : 0      =      3.3 : 1.0\n",
      "                   first = True                0 : 1      =      3.0 : 1.0\n",
      "                   funny = True                0 : 1      =      3.0 : 1.0\n",
      "                     lab = True                1 : 0      =      3.0 : 1.0\n",
      "                       . = None                0 : 1      =      2.9 : 1.0\n",
      "                   great = True                1 : 0      =      2.9 : 1.0\n",
      "                  really = True                1 : 0      =      2.9 : 1.0\n",
      "                   thing = True                0 : 1      =      2.8 : 1.0\n"
     ]
    }
   ],
   "source": [
    "# Starting training and Evaluation\n",
    "\n",
    "# feature extraction\n",
    "corpus_features = [(get_features(each,''),label) for (each,label) in data]\n",
    "print ('Collected ' + str(len(corpus_features)) + ' feature sets')\n",
    "\n",
    "# training the classifier\n",
    "train_set, test_set, classifier = train(corpus_features, 0.7)\n",
    "\n",
    "# evaluate its performance\n",
    "evaluate(train_set, test_set, classifier)\n"
   ]
  },
  {
   "cell_type": "code",
   "execution_count": null,
   "metadata": {
    "collapsed": true
   },
   "outputs": [],
   "source": []
  }
 ],
 "metadata": {
  "kernelspec": {
   "display_name": "Python 3",
   "language": "python",
   "name": "python3"
  },
  "language_info": {
   "codemirror_mode": {
    "name": "ipython",
    "version": 3
   },
   "file_extension": ".py",
   "mimetype": "text/x-python",
   "name": "python",
   "nbconvert_exporter": "python",
   "pygments_lexer": "ipython3",
   "version": "3.5.2"
  }
 },
 "nbformat": 4,
 "nbformat_minor": 2
}
