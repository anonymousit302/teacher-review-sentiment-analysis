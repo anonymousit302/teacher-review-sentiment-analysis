{
 "cells": [
  {
   "cell_type": "code",
   "execution_count": 1,
   "metadata": {
    "collapsed": true
   },
   "outputs": [],
   "source": [
    "from astropy.io import ascii\n",
    "d = ascii.read('data/rmp.csv')"
   ]
  },
  {
   "cell_type": "code",
   "execution_count": 2,
   "metadata": {
    "collapsed": true
   },
   "outputs": [],
   "source": [
    "d.keys()\n",
    "data = []\n",
    "for row in d:\n",
    "    if row['quality'] == 'awful':\n",
    "        rating = 0\n",
    "    else:\n",
    "        rating = 1\n",
    "    data.append((row['comment'], rating))"
   ]
  },
  {
   "cell_type": "code",
   "execution_count": 3,
   "metadata": {
    "collapsed": true
   },
   "outputs": [],
   "source": [
    "size = len(data)\n",
    "r = int((size+1)*.7)\n",
    "train = data[:r]\n",
    "test = data[r:]"
   ]
  },
  {
   "cell_type": "code",
   "execution_count": 4,
   "metadata": {
    "collapsed": true
   },
   "outputs": [],
   "source": [
    "#Importing a model\n",
    "from textblob.classifiers import NaiveBayesClassifier\n",
    "\n",
    "cl = NaiveBayesClassifier(train)"
   ]
  },
  {
   "cell_type": "code",
   "execution_count": 5,
   "metadata": {},
   "outputs": [
    {
     "data": {
      "text/plain": [
       "0.8620199146514936"
      ]
     },
     "execution_count": 5,
     "metadata": {},
     "output_type": "execute_result"
    }
   ],
   "source": [
    "cl.accuracy(test)"
   ]
  },
  {
   "cell_type": "code",
   "execution_count": 6,
   "metadata": {},
   "outputs": [
    {
     "name": "stdout",
     "output_type": "stream",
     "text": [
      "Most Informative Features\n",
      "          contains(best) = True                1 : 0      =     24.9 : 1.0\n",
      "         contains(Worst) = True                0 : 1      =     17.6 : 1.0\n",
      "     contains(attention) = True                1 : 0      =     13.5 : 1.0\n",
      "        contains(period) = True                0 : 1      =     13.2 : 1.0\n",
      "         contains(AVOID) = True                0 : 1      =     11.7 : 1.0\n",
      "  contains(instructions) = True                0 : 1      =     11.1 : 1.0\n",
      "     contains(worthless) = True                0 : 1      =     11.1 : 1.0\n",
      "          contains(none) = True                0 : 1      =     11.1 : 1.0\n",
      "       contains(allowed) = True                0 : 1      =     11.1 : 1.0\n",
      "       contains(willing) = True                1 : 0      =     10.4 : 1.0\n",
      "      contains(horrible) = True                0 : 1      =     10.3 : 1.0\n",
      "           contains(GPA) = True                0 : 1      =     10.3 : 1.0\n",
      "      contains(Horrible) = True                0 : 1      =     10.0 : 1.0\n",
      "         contains(worst) = True                0 : 1      =      9.7 : 1.0\n",
      "          contains(Find) = True                0 : 1      =      9.1 : 1.0\n",
      "       contains(awesome) = True                1 : 0      =      8.4 : 1.0\n",
      "     contains(hilarious) = True                1 : 0      =      8.2 : 1.0\n",
      "           contains(BAD) = True                0 : 1      =      7.9 : 1.0\n",
      "      contains(arrogant) = True                0 : 1      =      7.9 : 1.0\n",
      "       contains(failing) = True                0 : 1      =      7.9 : 1.0\n"
     ]
    }
   ],
   "source": [
    "cl.show_informative_features(20)"
   ]
  },
  {
   "cell_type": "code",
   "execution_count": 7,
   "metadata": {
    "collapsed": true
   },
   "outputs": [],
   "source": [
    "db = ascii.read('data/Evaluations-Binary.csv')"
   ]
  },
  {
   "cell_type": "code",
   "execution_count": 10,
   "metadata": {
    "scrolled": true
   },
   "outputs": [],
   "source": [
    "hit, miss = 0, 0\n",
    "for row in db:\n",
    "    #print(cl.classify(row['col1']), row['col2'])\n",
    "    if cl.classify(row['Review']) == row['Useful']:\n",
    "        hit += 1\n",
    "    else:\n",
    "        miss += 1\n",
    "#    for sentence in row['col1'].split('.'):\n",
    "#        if cl.classify(sentence) == 0:\n",
    "#            print(sentence)\n",
    "#            print(cl.classify(sentence), row['col2'])       "
   ]
  },
  {
   "cell_type": "code",
   "execution_count": 11,
   "metadata": {},
   "outputs": [
    {
     "name": "stdout",
     "output_type": "stream",
     "text": [
      "114 41 0.7354838709677419 0.2645161290322581\n"
     ]
    }
   ],
   "source": [
    "print(hit, miss, hit/(hit+miss), miss/(hit+miss))"
   ]
  },
  {
   "cell_type": "code",
   "execution_count": 12,
   "metadata": {},
   "outputs": [
    {
     "data": {
      "text/plain": [
       "1"
      ]
     },
     "execution_count": 12,
     "metadata": {},
     "output_type": "execute_result"
    }
   ],
   "source": [
    "cl.classify(\"\")"
   ]
  },
  {
   "cell_type": "code",
   "execution_count": null,
   "metadata": {
    "collapsed": true
   },
   "outputs": [],
   "source": []
  }
 ],
 "metadata": {
  "kernelspec": {
   "display_name": "Python [default]",
   "language": "python",
   "name": "python3"
  },
  "language_info": {
   "codemirror_mode": {
    "name": "ipython",
    "version": 3
   },
   "file_extension": ".py",
   "mimetype": "text/x-python",
   "name": "python",
   "nbconvert_exporter": "python",
   "pygments_lexer": "ipython3",
   "version": "3.5.4"
  }
 },
 "nbformat": 4,
 "nbformat_minor": 2
}
