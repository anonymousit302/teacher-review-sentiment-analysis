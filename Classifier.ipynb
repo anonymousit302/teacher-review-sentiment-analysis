{
 "cells": [
  {
   "cell_type": "code",
   "execution_count": 15,
   "metadata": {
    "collapsed": false
   },
   "outputs": [
    {
     "name": "stdout",
     "output_type": "stream",
     "text": [
      "155\n"
     ]
    }
   ],
   "source": [
    "# From http://textblob.readthedocs.io/en/dev/classifiers.html#classifying-text\n",
    "\n",
    "#Reading in data from csv file\n",
    "import pandas as pd\n",
    "import numpy as np\n",
    "df = pd.read_csv('/Users/victoriaditomasso/AstroHackWeek/teacher-review-sentiment-analysis/data/Evaluations-Binary.csv')\n",
    "# df = df.drop('Date',1)\n",
    "data = []\n",
    "for index,rows in df.iterrows():\n",
    "    a = (rows['Comment'],rows['Rating'])\n",
    "    data.append(a)\n",
    "    \n",
    "print(len(data))"
   ]
  },
  {
   "cell_type": "code",
   "execution_count": 16,
   "metadata": {
    "collapsed": true
   },
   "outputs": [],
   "source": [
    "#Splitting Data into training and testing set\n",
    "size = len(data)\n",
    "r = int((size+1)*.8)\n",
    "train = data[:r]\n",
    "test = data[r:]"
   ]
  },
  {
   "cell_type": "code",
   "execution_count": 17,
   "metadata": {
    "collapsed": true
   },
   "outputs": [],
   "source": [
    "#Importing a model\n",
    "from textblob.classifiers import NaiveBayesClassifier\n",
    "\n",
    "cl = NaiveBayesClassifier(train)"
   ]
  },
  {
   "cell_type": "code",
   "execution_count": 18,
   "metadata": {
    "collapsed": false
   },
   "outputs": [
    {
     "data": {
      "text/plain": [
       "0.8064516129032258"
      ]
     },
     "execution_count": 18,
     "metadata": {},
     "output_type": "execute_result"
    }
   ],
   "source": [
    "cl.accuracy(test)"
   ]
  },
  {
   "cell_type": "code",
   "execution_count": 22,
   "metadata": {
    "collapsed": false
   },
   "outputs": [
    {
     "data": {
      "text/plain": [
       "'useful'"
      ]
     },
     "execution_count": 22,
     "metadata": {},
     "output_type": "execute_result"
    }
   ],
   "source": [
    "cl.classify(\"Hot guy\")"
   ]
  },
  {
   "cell_type": "code",
   "execution_count": 21,
   "metadata": {
    "collapsed": false
   },
   "outputs": [
    {
     "name": "stdout",
     "output_type": "stream",
     "text": [
      "Most Informative Features\n",
      "         contains(funny) = True           not_us : useful =      5.2 : 1.0\n",
      "          contains(Good) = True           not_us : useful =      5.2 : 1.0\n",
      "        contains(boring) = True           not_us : useful =      4.0 : 1.0\n",
      "            contains(me) = True           not_us : useful =      4.0 : 1.0\n",
      "           contains(get) = True           useful : not_us =      3.9 : 1.0\n",
      "            contains(If) = True           useful : not_us =      3.7 : 1.0\n",
      "          contains(math) = True           not_us : useful =      3.7 : 1.0\n",
      "            contains(Do) = True           not_us : useful =      3.7 : 1.0\n",
      "         contains(doing) = True           not_us : useful =      3.7 : 1.0\n",
      "         contains(cares) = True           not_us : useful =      3.7 : 1.0\n"
     ]
    }
   ],
   "source": [
    "cl.show_informative_features(10) "
   ]
  },
  {
   "cell_type": "code",
   "execution_count": null,
   "metadata": {
    "collapsed": true
   },
   "outputs": [],
   "source": []
  }
 ],
 "metadata": {
  "kernelspec": {
   "display_name": "Python 2",
   "language": "python",
   "name": "python2"
  },
  "language_info": {
   "codemirror_mode": {
    "name": "ipython",
    "version": 2
   },
   "file_extension": ".py",
   "mimetype": "text/x-python",
   "name": "python",
   "nbconvert_exporter": "python",
   "pygments_lexer": "ipython2",
   "version": "2.7.13"
  }
 },
 "nbformat": 4,
 "nbformat_minor": 2
}
